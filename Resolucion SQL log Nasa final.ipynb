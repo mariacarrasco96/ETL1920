{
 "cells": [
  {
   "cell_type": "markdown",
   "metadata": {},
   "source": [
    "## EJERCICIO 4B - María Carrasco Meléndez"
   ]
  },
  {
   "cell_type": "markdown",
   "metadata": {},
   "source": [
    "#### 1. Mínimo, máximo y media del tamaño de las peticiones.\n",
    "#### 2. Número de peticiones de cada código de respuesta (response_code)\n",
    "#### 3.  Mostrar 20 hosts que han sido visitados más de 10 veces.\n",
    "#### 4. Mostrar los 10 endpoints más visitados.\n",
    "#### 5. Mostrar los 10 endpoints más visitados que no tienen código de respuesta =200.\n",
    "#### 6. Calcular el número de hosts distintos.\n",
    "#### 7. Calcular el número de hosts únicos cada día.\n",
    "#### 8. Calcular la media de peticiones diarias por host.\n",
    "#### 9. Mostrar una lista de 40 endpoints distintos que generan un código respuesta = 404.\n",
    "#### 10. Mostrar el top 25 de endpoints que más códigos de respuesta 404 generan.\n",
    "#### 11. El top 5 de días que se generaron código de respuesta 404.\n"
   ]
  },
  {
   "cell_type": "markdown",
   "metadata": {},
   "source": [
    "### En primer lugar para poder responder a estas preguntas tendremos que parsear nuestro dataset."
   ]
  },
  {
   "cell_type": "code",
   "execution_count": 61,
   "metadata": {
    "collapsed": false
   },
   "outputs": [],
   "source": [
    "from pyspark import SparkContext\n",
    "sc = SparkContext(\"local\", \"First App\")"
   ]
  },
  {
   "cell_type": "code",
   "execution_count": 62,
   "metadata": {
    "collapsed": false
   },
   "outputs": [],
   "source": [
    "from pyspark.sql import SQLContext, Row # Row nos permite darle nombres a cada elemento de la lista\n",
    "sqlContext = SQLContext(sc)"
   ]
  },
  {
   "cell_type": "code",
   "execution_count": 63,
   "metadata": {
    "collapsed": false
   },
   "outputs": [],
   "source": [
    "data_file = \"./apache.access.log_small.txt\"\n",
    "raw_data = sc.textFile(data_file).cache()"
   ]
  },
  {
   "cell_type": "markdown",
   "metadata": {},
   "source": [
    "Hasta aquí el cargado de datos"
   ]
  },
  {
   "cell_type": "code",
   "execution_count": 65,
   "metadata": {
    "collapsed": true
   },
   "outputs": [],
   "source": [
    "import re\n",
    "def parse_log2(line):\n",
    "    match = re.search('^(\\S+) (\\S+) (\\S+) \\[(\\S+) [-](\\d{4})\\] \"(\\S+)\\s*(\\S+)\\s*(\\S+)\\s*([/\\w\\.\\s*]+)?\\s*\"* (\\d{3}) (\\S+)',line)\n",
    "    if match is None:\n",
    "        match = re.search('^(\\S+) (\\S+) (\\S+) \\[(\\S+) [-](\\d{4})\\] \"(\\S+)\\s*([/\\w\\.]+)>*([\\w/\\s\\.]+)\\s*(\\S+)\\s*(\\d{3})\\s*(\\S+)',line)\n",
    "    if match is None:\n",
    "        return (line, 0)\n",
    "    else:\n",
    "        return (line, 1)"
   ]
  },
  {
   "cell_type": "code",
   "execution_count": 66,
   "metadata": {
    "collapsed": false
   },
   "outputs": [
    {
     "data": {
      "text/plain": [
       "[('in24.inetnebr.com',\n",
       "  '-',\n",
       "  '-',\n",
       "  '01/Aug/1995:00:00:01',\n",
       "  '0400',\n",
       "  'GET',\n",
       "  '/shuttle/missions/sts-68/news/sts-68-mcc-05.txt',\n",
       "  'HTTP/1.0\"',\n",
       "  None,\n",
       "  '200',\n",
       "  '1839')]"
      ]
     },
     "execution_count": 66,
     "metadata": {},
     "output_type": "execute_result"
    }
   ],
   "source": [
    "def map_log(line):\n",
    "    match = re.search('^(\\S+) (\\S+) (\\S+) \\[(\\S+) [-](\\d{4})\\] \"(\\S+)\\s*(\\S+)\\s*(\\S+)\\s*([/\\w\\.\\s*]+)?\\s*\"* (\\d{3}) (\\S+)',line)\n",
    "    if match is None:\n",
    "        match = re.search('^(\\S+) (\\S+) (\\S+) \\[(\\S+) [-](\\d{4})\\] \"(\\S+)\\s*([/\\w\\.]+)>*([\\w/\\s\\.]+)\\s*(\\S+)\\s*(\\d{3})\\s*(\\S+)',line)\n",
    "    return(match.groups())\n",
    "parsed_rdd = raw_data.map(lambda line: parse_log2(line)).filter(lambda line: line[1] == 1).map(lambda line : line[0]) #map con el segundo parseador, filtramos cuales de ellos han sido uno (que el paseador los pasa adecuadamente) y despues mapeamos\n",
    "parsed_def = parsed_rdd.map(lambda line: map_log(line))\n",
    "parsed_def.take(1)"
   ]
  },
  {
   "cell_type": "code",
   "execution_count": 67,
   "metadata": {
    "collapsed": true
   },
   "outputs": [],
   "source": [
    "def convert_long(x):\n",
    "    x = re.sub('[^0-9]',\"\",x)\n",
    "    if x == \"\":\n",
    "        return 0\n",
    "    else:\n",
    "        return int(x)\n",
    "    "
   ]
  },
  {
   "cell_type": "code",
   "execution_count": 68,
   "metadata": {
    "collapsed": false
   },
   "outputs": [
    {
     "data": {
      "text/plain": [
       "3432"
      ]
     },
     "execution_count": 68,
     "metadata": {},
     "output_type": "execute_result"
    }
   ],
   "source": [
    "sql_data = parsed_def.map(lambda p: \n",
    "                         Row(Host = p[0], \n",
    "                            date = p[3][:2],\n",
    "                            endpoint = p[6], \n",
    "                            codigo = p[9],\n",
    "                            size = convert_long(p[10])\n",
    "                            )\n",
    "                         )\n",
    "sql_data.count()"
   ]
  },
  {
   "cell_type": "code",
   "execution_count": 69,
   "metadata": {
    "collapsed": false
   },
   "outputs": [],
   "source": [
    "data_df = sqlContext.createDataFrame(sql_data)\n",
    "data_df.registerTempTable(\"data\")"
   ]
  },
  {
   "cell_type": "code",
   "execution_count": 70,
   "metadata": {
    "collapsed": true
   },
   "outputs": [],
   "source": [
    "df_data = sqlContext.sql(\"\"\"\n",
    "    SELECT * FROM data LIMIT 20\n",
    "\"\"\")"
   ]
  },
  {
   "cell_type": "markdown",
   "metadata": {},
   "source": [
    "#### 1. Mínimo, máximo y media del tamaño de las peticiones."
   ]
  },
  {
   "cell_type": "code",
   "execution_count": 71,
   "metadata": {
    "collapsed": true
   },
   "outputs": [],
   "source": [
    "df_data2 = sqlContext.sql(\"\"\"\n",
    "    SELECT MIN(size) AS minimo, MAX(size) AS maximo, AVG(size) AS media FROM data\n",
    "\"\"\")"
   ]
  },
  {
   "cell_type": "code",
   "execution_count": 74,
   "metadata": {
    "collapsed": false
   },
   "outputs": [
    {
     "name": "stdout",
     "output_type": "stream",
     "text": [
      "+------+------+------------------+\n",
      "|minimo|maximo|             media|\n",
      "+------+------+------------------+\n",
      "|     0|887988|16051.863636363636|\n",
      "+------+------+------------------+\n",
      "\n"
     ]
    }
   ],
   "source": [
    "df_data2.show()"
   ]
  },
  {
   "cell_type": "markdown",
   "metadata": {},
   "source": [
    "#### 2. Número de peticiones de cada código de respuesta (response_code)"
   ]
  },
  {
   "cell_type": "code",
   "execution_count": 75,
   "metadata": {
    "collapsed": false
   },
   "outputs": [
    {
     "name": "stdout",
     "output_type": "stream",
     "text": [
      "+----------+------+\n",
      "|peticiones|codigo|\n",
      "+----------+------+\n",
      "|  55085536|   200|\n",
      "|      4460|   302|\n",
      "|         0|   404|\n",
      "|         0|   403|\n",
      "|         0|   304|\n",
      "+----------+------+\n",
      "\n"
     ]
    }
   ],
   "source": [
    "df_data3 = sqlContext.sql(\"\"\"\n",
    "    SELECT SUM(size) AS peticiones, codigo FROM data GROUP BY codigo\n",
    "\"\"\")\n",
    "df_data3.show()"
   ]
  },
  {
   "cell_type": "markdown",
   "metadata": {},
   "source": [
    "#### 3.  Mostrar 20 hosts que han sido visitados más de 10 veces."
   ]
  },
  {
   "cell_type": "code",
   "execution_count": 92,
   "metadata": {
    "collapsed": false
   },
   "outputs": [
    {
     "name": "stdout",
     "output_type": "stream",
     "text": [
      "+-----------+\n",
      "|count(host)|\n",
      "+-----------+\n",
      "|         15|\n",
      "|         14|\n",
      "|         12|\n",
      "|         55|\n",
      "|         12|\n",
      "|         11|\n",
      "|         28|\n",
      "|         78|\n",
      "|         17|\n",
      "|         16|\n",
      "|         29|\n",
      "|         31|\n",
      "|         14|\n",
      "|         17|\n",
      "|         17|\n",
      "|         32|\n",
      "|         13|\n",
      "|         40|\n",
      "|         19|\n",
      "|         17|\n",
      "+-----------+\n",
      "\n"
     ]
    }
   ],
   "source": [
    "df_data4 = sqlContext.sql(\"\"\"\n",
    "    SELECT COUNT (host) FROM data GROUP BY host HAVING COUNT(host)>10 LIMIT 20\n",
    "\"\"\")\n",
    "df_data4.show()"
   ]
  },
  {
   "cell_type": "markdown",
   "metadata": {},
   "source": [
    "#### 4. Mostrar los 10 endpoints más visitados."
   ]
  },
  {
   "cell_type": "code",
   "execution_count": 117,
   "metadata": {
    "collapsed": false
   },
   "outputs": [
    {
     "name": "stdout",
     "output_type": "stream",
     "text": [
      "+---------------+\n",
      "|count(endpoint)|\n",
      "+---------------+\n",
      "|            167|\n",
      "|            160|\n",
      "|            122|\n",
      "|            120|\n",
      "|            118|\n",
      "|            106|\n",
      "|             85|\n",
      "|             74|\n",
      "|             69|\n",
      "|             66|\n",
      "+---------------+\n",
      "\n"
     ]
    }
   ],
   "source": [
    "df_data5 = sqlContext.sql(\"\"\"\n",
    "    SELECT COUNT (endpoint) FROM data GROUP BY endpoint ORDER BY COUNT(endpoint) DESC LIMIT 10\n",
    "\"\"\")\n",
    "df_data5.show()\n",
    "\n",
    "#En primer lugar empleamos un GROUP BY para poder ordenar por endpoint limitando a 10, tras esto se le aplica el ORDER BY\n",
    "# Donde ordenamos en orden descendente. "
   ]
  },
  {
   "cell_type": "markdown",
   "metadata": {},
   "source": [
    "#### 5. Mostrar los 10 endpoints más visitados que no tienen código de respuesta =200."
   ]
  },
  {
   "cell_type": "code",
   "execution_count": 106,
   "metadata": {
    "collapsed": false
   },
   "outputs": [
    {
     "name": "stdout",
     "output_type": "stream",
     "text": [
      "+--------------------+------+\n",
      "|            endpoint|codigo|\n",
      "+--------------------+------+\n",
      "|/www/software/win...|   404|\n",
      "|     /whats-new.html|   304|\n",
      "|     /whats-new.html|   304|\n",
      "|     /sts-71/launch/|   404|\n",
      "|/software/winvn/w...|   304|\n",
      "|/software/winvn/w...|   304|\n",
      "|/software/winvn/w...|   304|\n",
      "|/software/winvn/w...|   304|\n",
      "|/software/winvn/w...|   304|\n",
      "|/software/winvn/w...|   304|\n",
      "+--------------------+------+\n",
      "\n"
     ]
    }
   ],
   "source": [
    "df_data6 = sqlContext.sql(\"\"\"\n",
    "    SELECT endpoint, codigo FROM data WHERE codigo!=200 ORDER BY endpoint DESC LIMIT 10\n",
    "\"\"\")\n",
    "df_data6.show()"
   ]
  },
  {
   "cell_type": "markdown",
   "metadata": {},
   "source": [
    "#### 6. Calcular el número de hosts distintos."
   ]
  },
  {
   "cell_type": "code",
   "execution_count": 79,
   "metadata": {
    "collapsed": false
   },
   "outputs": [
    {
     "name": "stdout",
     "output_type": "stream",
     "text": [
      "+--------------------+\n",
      "|count(DISTINCT host)|\n",
      "+--------------------+\n",
      "|                 311|\n",
      "+--------------------+\n",
      "\n"
     ]
    }
   ],
   "source": [
    "df_data7 = sqlContext.sql(\"\"\"\n",
    "    SELECT COUNT (DISTINCT host) FROM data\n",
    "\"\"\")\n",
    "df_data7.show()"
   ]
  },
  {
   "cell_type": "markdown",
   "metadata": {},
   "source": [
    "#### 7. Calcular el número de hosts únicos cada día."
   ]
  },
  {
   "cell_type": "code",
   "execution_count": 81,
   "metadata": {
    "collapsed": false
   },
   "outputs": [
    {
     "name": "stdout",
     "output_type": "stream",
     "text": [
      "+-----------+----+\n",
      "|count(host)|date|\n",
      "+-----------+----+\n",
      "|       3432|  01|\n",
      "+-----------+----+\n",
      "\n"
     ]
    }
   ],
   "source": [
    "df_data8 = sqlContext.sql(\"\"\"\n",
    "    SELECT COUNT (host), date FROM data GROUP BY date\n",
    "\"\"\")\n",
    "df_data8.show()"
   ]
  },
  {
   "cell_type": "markdown",
   "metadata": {},
   "source": [
    "#### 8. Calcular la media de peticiones diarias por host."
   ]
  },
  {
   "cell_type": "code",
   "execution_count": 108,
   "metadata": {
    "collapsed": false
   },
   "outputs": [
    {
     "name": "stdout",
     "output_type": "stream",
     "text": [
      "+------------------+----+--------------------+\n",
      "|             media|date|                host|\n",
      "+------------------+----+--------------------+\n",
      "|           39762.6|  01|sunset.somcau.siu...|\n",
      "|           15974.0|  01|    igate.uswest.com|\n",
      "|            2191.0|  01|kgtyk4.kj.yamagat...|\n",
      "| 21095.53846153846|  01|    wwwproxy.info.au|\n",
      "| 4960.774193548387|  01|       193.84.66.147|\n",
      "|14210.416666666666|  01|dialup12.leuven.e...|\n",
      "| 3448.818181818182|  01|dd15-053.compuser...|\n",
      "| 4184.210526315789|  01|miriworld.its.uni...|\n",
      "|3246.8333333333335|  01|ix-esc-ca2-07.ix....|\n",
      "|            4287.0|  01|      133.102.242.50|\n",
      "|            3640.0|  01| tyo1.gate.nec.co.jp|\n",
      "| 8159.142857142857|  01|ix-dgr-il1-15.ix....|\n",
      "|15684.777777777777|  01|      198.248.59.123|\n",
      "|          6085.075|  01|hsccs_gatorbox07....|\n",
      "|            2533.0|  01|mars.sunmtm.kuleu...|\n",
      "| 7508.952380952381|  01|piweba4y.prodigy.com|\n",
      "|3357.1111111111113|  01|   unix.adeptcom.com|\n",
      "|          23000.25|  01|port42.ts2.msstat...|\n",
      "| 6676.714285714285|  01|celebrian.otago.a...|\n",
      "|          5461.875|  01|stockyard17.onram...|\n",
      "+------------------+----+--------------------+\n",
      "only showing top 20 rows\n",
      "\n"
     ]
    }
   ],
   "source": [
    "df_data9 = sqlContext.sql(\"\"\"\n",
    "    SELECT AVG(size) AS media, date, host FROM data GROUP BY date,host\n",
    "\"\"\")\n",
    "df_data9.show()"
   ]
  },
  {
   "cell_type": "markdown",
   "metadata": {},
   "source": [
    "#### 9. Mostrar una lista de 40 endpoints distintos que generan un código respuesta = 404."
   ]
  },
  {
   "cell_type": "code",
   "execution_count": 109,
   "metadata": {
    "collapsed": false
   },
   "outputs": [
    {
     "name": "stdout",
     "output_type": "stream",
     "text": [
      "+--------------------+------+\n",
      "|            endpoint|codigo|\n",
      "+--------------------+------+\n",
      "|/history/apollo/a...|   404|\n",
      "|/history/apollo/a...|   404|\n",
      "|/shuttle/resource...|   404|\n",
      "|/history/apollo/a...|   404|\n",
      "|/elv/DELTA/uncons...|   404|\n",
      "|/pub/winvn/readme...|   404|\n",
      "|/history/apollo/a...|   404|\n",
      "|/history/history.htm|   404|\n",
      "|     /sts-71/launch/|   404|\n",
      "|/history/apollo/a...|   404|\n",
      "|/www/software/win...|   404|\n",
      "|/history/apollo/a...|   404|\n",
      "|/pub/winvn/releas...|   404|\n",
      "+--------------------+------+\n",
      "\n"
     ]
    }
   ],
   "source": [
    "df_data10 = sqlContext.sql(\"\"\"\n",
    "    SELECT DISTINCT endpoint, codigo FROM data WHERE codigo = 404  LIMIT 40\n",
    "\"\"\")\n",
    "df_data10.show()"
   ]
  },
  {
   "cell_type": "markdown",
   "metadata": {},
   "source": [
    "#### 10. Mostrar el top 25 de endpoints que más códigos de respuesta 404 generan."
   ]
  },
  {
   "cell_type": "code",
   "execution_count": 116,
   "metadata": {
    "collapsed": false
   },
   "outputs": [
    {
     "name": "stdout",
     "output_type": "stream",
     "text": [
      "+--------------------+-------------+\n",
      "|            endpoint|count(codigo)|\n",
      "+--------------------+-------------+\n",
      "|/pub/winvn/releas...|            4|\n",
      "|/history/apollo/a...|            4|\n",
      "|/history/apollo/a...|            2|\n",
      "|/history/apollo/a...|            2|\n",
      "|/pub/winvn/readme...|            2|\n",
      "|/elv/DELTA/uncons...|            1|\n",
      "|     /sts-71/launch/|            1|\n",
      "|/history/apollo/a...|            1|\n",
      "|/shuttle/resource...|            1|\n",
      "|/history/apollo/a...|            1|\n",
      "|/history/apollo/a...|            1|\n",
      "|/www/software/win...|            1|\n",
      "|/history/history.htm|            1|\n",
      "+--------------------+-------------+\n",
      "\n"
     ]
    }
   ],
   "source": [
    "df_data11 = sqlContext.sql(\"\"\"\n",
    "    SELECT endpoint, COUNT (codigo) FROM data WHERE codigo=404 GROUP BY endpoint ORDER BY COUNT(codigo) DESC LIMIT 25\n",
    "\"\"\")\n",
    "df_data11.show()"
   ]
  },
  {
   "cell_type": "markdown",
   "metadata": {},
   "source": [
    "#### 11. El top 5 de días que se generaron código de respuesta 404."
   ]
  },
  {
   "cell_type": "code",
   "execution_count": 129,
   "metadata": {
    "collapsed": false
   },
   "outputs": [
    {
     "name": "stdout",
     "output_type": "stream",
     "text": [
      "+-------------+----+\n",
      "|count(codigo)|date|\n",
      "+-------------+----+\n",
      "|           22|  01|\n",
      "+-------------+----+\n",
      "\n"
     ]
    }
   ],
   "source": [
    "df_data12 = sqlContext.sql(\"\"\"\n",
    "    SELECT COUNT(codigo), date FROM data WHERE codigo=404 GROUP BY date ORDER BY COUNT(codigo) DESC LIMIT 5\n",
    "\"\"\")\n",
    "df_data12.show()"
   ]
  },
  {
   "cell_type": "code",
   "execution_count": 130,
   "metadata": {
    "collapsed": true
   },
   "outputs": [],
   "source": [
    "sc.stop()"
   ]
  }
 ],
 "metadata": {
  "kernelspec": {
   "display_name": "Python 3",
   "language": "python",
   "name": "python3"
  },
  "language_info": {
   "codemirror_mode": {
    "name": "ipython",
    "version": 3
   },
   "file_extension": ".py",
   "mimetype": "text/x-python",
   "name": "python",
   "nbconvert_exporter": "python",
   "pygments_lexer": "ipython3",
   "version": "3.5.2"
  }
 },
 "nbformat": 4,
 "nbformat_minor": 2
}
